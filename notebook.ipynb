{
 "cells": [
  {
   "cell_type": "code",
   "execution_count": 1,
   "metadata": {},
   "outputs": [],
   "source": [
    "%load_ext autoreload\n",
    "%autoreload 2\n",
    "import torch\n",
    "from GPT import * \n",
    "from dataclasses import dataclass"
   ]
  },
  {
   "cell_type": "code",
   "execution_count": 14,
   "metadata": {},
   "outputs": [
    {
     "data": {
      "text/plain": [
       "{'\\n': 0,\n",
       " ' ': 1,\n",
       " '!': 2,\n",
       " '\"': 3,\n",
       " \"'\": 4,\n",
       " '(': 5,\n",
       " ')': 6,\n",
       " '*': 7,\n",
       " ',': 8,\n",
       " '-': 9,\n",
       " '.': 10,\n",
       " '/': 11,\n",
       " '0': 12,\n",
       " '1': 13,\n",
       " '2': 14,\n",
       " '3': 15,\n",
       " '4': 16,\n",
       " '5': 17,\n",
       " '6': 18,\n",
       " '7': 19,\n",
       " '8': 20,\n",
       " '9': 21,\n",
       " ':': 22,\n",
       " '<': 23,\n",
       " '>': 24,\n",
       " '?': 25,\n",
       " 'A': 26,\n",
       " 'B': 27,\n",
       " 'C': 28,\n",
       " 'D': 29,\n",
       " 'E': 30,\n",
       " 'F': 31,\n",
       " 'G': 32,\n",
       " 'H': 33,\n",
       " 'I': 34,\n",
       " 'J': 35,\n",
       " 'K': 36,\n",
       " 'L': 37,\n",
       " 'M': 38,\n",
       " 'N': 39,\n",
       " 'O': 40,\n",
       " 'P': 41,\n",
       " 'Q': 42,\n",
       " 'R': 43,\n",
       " 'S': 44,\n",
       " 'T': 45,\n",
       " 'U': 46,\n",
       " 'V': 47,\n",
       " 'W': 48,\n",
       " 'X': 49,\n",
       " 'Y': 50,\n",
       " 'Z': 51,\n",
       " '[': 52,\n",
       " ']': 53,\n",
       " '_': 54,\n",
       " 'a': 55,\n",
       " 'b': 56,\n",
       " 'c': 57,\n",
       " 'd': 58,\n",
       " 'e': 59,\n",
       " 'f': 60,\n",
       " 'g': 61,\n",
       " 'h': 62,\n",
       " 'i': 63,\n",
       " 'j': 64,\n",
       " 'k': 65,\n",
       " 'l': 66,\n",
       " 'm': 67,\n",
       " 'n': 68,\n",
       " 'o': 69,\n",
       " 'p': 70,\n",
       " 'q': 71,\n",
       " 'r': 72,\n",
       " 's': 73,\n",
       " 't': 74,\n",
       " 'u': 75,\n",
       " 'v': 76,\n",
       " 'w': 77,\n",
       " 'x': 78,\n",
       " 'y': 79,\n",
       " 'z': 80,\n",
       " '{': 81,\n",
       " '|': 82,\n",
       " '}': 83,\n",
       " 'É': 84,\n",
       " 'à': 85,\n",
       " 'á': 86,\n",
       " 'â': 87,\n",
       " 'æ': 88,\n",
       " 'ç': 89,\n",
       " 'è': 90,\n",
       " 'é': 91,\n",
       " 'ë': 92,\n",
       " 'ì': 93,\n",
       " 'í': 94,\n",
       " 'ï': 95,\n",
       " 'ò': 96,\n",
       " 'ö': 97,\n",
       " 'ø': 98,\n",
       " 'ù': 99,\n",
       " '–': 100,\n",
       " '‘': 101,\n",
       " '’': 102,\n",
       " '“': 103,\n",
       " '”': 104,\n",
       " '…': 105}"
      ]
     },
     "execution_count": 14,
     "metadata": {},
     "output_type": "execute_result"
    }
   ],
   "source": [
    "stoidx"
   ]
  },
  {
   "cell_type": "code",
   "execution_count": 15,
   "metadata": {},
   "outputs": [],
   "source": [
    "@dataclass\n",
    "class config:\n",
    "    vocab_size: int = len(set(text)) +1\n",
    "    block_size: int = 16\n",
    "    n_embed:    int = 12\n",
    "    n_head:     int = 12\n",
    "    bias:       bool = False\n",
    "    dropout:  float = 0.2\n",
    "    n_layer:    int = 12\n"
   ]
  },
  {
   "cell_type": "code",
   "execution_count": 16,
   "metadata": {},
   "outputs": [],
   "source": [
    "with open(\"Data/dialog.txt\",\"r\",encoding=\"utf-8\") as f:\n",
    "    data = f.read()\n",
    "text = data.replace(\"|\",\":\")\n",
    "len(set(data))\n",
    "words = sorted([i for i in set(data)])"
   ]
  },
  {
   "cell_type": "code",
   "execution_count": null,
   "metadata": {},
   "outputs": [],
   "source": []
  },
  {
   "cell_type": "code",
   "execution_count": 17,
   "metadata": {},
   "outputs": [],
   "source": [
    "idxtos = {idx:w for idx,w in enumerate(words)}\n",
    "stoidx = {w:idx for idx,w in enumerate(words)}\n",
    "encode = lambda s: [stoidx[i] for i in s]\n",
    "decode = lambda i: \"\".join(idxtos[j] for j in i)"
   ]
  },
  {
   "cell_type": "code",
   "execution_count": 18,
   "metadata": {},
   "outputs": [],
   "source": [
    "data = torch.tensor(encode(text), dtype=torch.long)\n",
    "n = int(0.9*len(data)) # first 90% will be train, rest val\n",
    "train_data = data[:n]\n",
    "val_data = data[n:]"
   ]
  },
  {
   "cell_type": "code",
   "execution_count": 19,
   "metadata": {},
   "outputs": [],
   "source": [
    "def get_batch(split,batch_size):\n",
    "    # generate a small batch of data of inputs x and targets y\n",
    "    data = train_data if split == 'train' else val_data\n",
    "    ix = torch.randint(len(data) - config.block_size, (batch_size,))\n",
    "    x = torch.stack([data[i:i+config.block_size] for i in ix])\n",
    "    y = torch.stack([data[i+1:i+config.block_size+1] for i in ix])\n",
    "    return x, y"
   ]
  },
  {
   "cell_type": "code",
   "execution_count": 20,
   "metadata": {},
   "outputs": [],
   "source": [
    "model = GPT(config)"
   ]
  },
  {
   "cell_type": "code",
   "execution_count": 21,
   "metadata": {},
   "outputs": [],
   "source": [
    "eval_iters = 200\n",
    "max_iters = 2000\n",
    "eval_interval = 200\n",
    "@torch.no_grad()\n",
    "def estimate_loss():\n",
    "    out = {}\n",
    "    model.eval()\n",
    "    for split in ['train', 'val']:\n",
    "        losses = torch.zeros(eval_iters)\n",
    "        for k in range(eval_iters):\n",
    "            X, Y = get_batch(split,32)\n",
    "            logits, loss = model(X, Y)\n",
    "            losses[k] = loss.item()\n",
    "        out[split] = losses.mean()\n",
    "    model.train()\n",
    "    return out"
   ]
  },
  {
   "cell_type": "code",
   "execution_count": 25,
   "metadata": {},
   "outputs": [
    {
     "name": "stdout",
     "output_type": "stream",
     "text": [
      "step 0: train loss 4.8677, val loss 4.8328\n",
      "step 200: train loss 2.6866, val loss 2.8395\n",
      "step 400: train loss 2.5380, val loss 2.6651\n",
      "step 600: train loss 2.4550, val loss 2.5884\n",
      "step 800: train loss 2.4108, val loss 2.5527\n",
      "step 1000: train loss 2.3945, val loss 2.5312\n",
      "step 1200: train loss 2.3649, val loss 2.4950\n",
      "step 1400: train loss 2.3275, val loss 2.4617\n",
      "step 1600: train loss 2.3148, val loss 2.4403\n",
      "step 1800: train loss 2.3097, val loss 2.4233\n"
     ]
    }
   ],
   "source": [
    "optimizer = torch.optim.AdamW(model.parameters(), lr=5e-3)\n",
    "for iter in range(max_iters):\n",
    "\n",
    "    # every once in a while evaluate the loss on train and val sets\n",
    "    if iter % eval_interval == 0:\n",
    "        losses = estimate_loss()\n",
    "        print(f\"step {iter}: train loss {losses['train']:.4f}, val loss {losses['val']:.4f}\")\n",
    "\n",
    "    # sample a batch of data\n",
    "    xb, yb = get_batch('train',32)\n",
    "\n",
    "    # evaluate the loss\n",
    "    logits, loss = model(xb, yb)\n",
    "    optimizer.zero_grad(set_to_none=True)\n",
    "    loss.backward()\n",
    "    optimizer.step()"
   ]
  },
  {
   "cell_type": "code",
   "execution_count": 32,
   "metadata": {},
   "outputs": [
    {
     "name": "stdout",
     "output_type": "stream",
     "text": [
      "\n",
      "*eramabant:Tomuts angouts big nos youring s war it ibe, rasus wit tongrlll. Oh robk youveeintg and jalt-- Ruf tollld mul nis?\n",
      "Gerar Hrichsralllccarce's, fes dig se llatled whe inor't, su sple' beal - dethe te, ce. paw've.\n",
      "Digel Sweat's Pes. I'Aus E.\n",
      "Golarlt:Wit thamee sofig wes fem a melert. Gemorme wery bime sbampes dom… gicgoa. 1orr, tilt've mome alack, i Mas copt'siaonm wrrellar y a nof nawas, momalata kuat. Hased.\n",
      "Geryouralt:Hio n I Zhat mofert t6…\n",
      "Gerer:Thow anat\n",
      "Hhoous That'd ar ralp non'l\n"
     ]
    }
   ],
   "source": [
    "context = torch.zeros((1, 1), dtype=torch.long)\n",
    "print(decode(model.generate(context, max_new_tokens=500,blocksize=16)[0].tolist()))\n"
   ]
  }
 ],
 "metadata": {
  "kernelspec": {
   "display_name": "Python 3",
   "language": "python",
   "name": "python3"
  },
  "language_info": {
   "codemirror_mode": {
    "name": "ipython",
    "version": 3
   },
   "file_extension": ".py",
   "mimetype": "text/x-python",
   "name": "python",
   "nbconvert_exporter": "python",
   "pygments_lexer": "ipython3",
   "version": "3.11.4"
  }
 },
 "nbformat": 4,
 "nbformat_minor": 2
}
